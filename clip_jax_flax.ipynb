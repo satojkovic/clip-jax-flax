{
  "nbformat": 4,
  "nbformat_minor": 0,
  "metadata": {
    "colab": {
      "private_outputs": true,
      "provenance": []
    },
    "kernelspec": {
      "name": "python3",
      "display_name": "Python 3"
    },
    "language_info": {
      "name": "python"
    },
    "accelerator": "TPU",
    "gpuClass": "standard"
  },
  "cells": [
    {
      "cell_type": "code",
      "source": [
        "from google.colab import drive\n",
        "drive.mount('/content/drive')"
      ],
      "metadata": {
        "id": "b9oWlBnpb9Dq"
      },
      "execution_count": null,
      "outputs": []
    },
    {
      "cell_type": "code",
      "execution_count": null,
      "metadata": {
        "id": "HlVdD78PCaz8"
      },
      "outputs": [],
      "source": [
        "!pip install --upgrade pip\n",
        "# Installs the wheel compatible with CUDA 11 and cuDNN 8.2 or newer.\n",
        "# Note: wheels only available on linux.\n",
        "!pip install --upgrade \"jax[cuda]\" -f https://storage.googleapis.com/jax-releases/jax_cuda_releases.html"
      ]
    },
    {
      "cell_type": "code",
      "source": [
        "!pip install flax -U\n",
        "!pip install tqdm"
      ],
      "metadata": {
        "id": "CsDH-fIjCnBv"
      },
      "execution_count": null,
      "outputs": []
    },
    {
      "cell_type": "markdown",
      "source": [
        "## Jax setup for colab"
      ],
      "metadata": {
        "id": "bUOsgbFBThfr"
      }
    },
    {
      "cell_type": "code",
      "source": [
        "# https://github.com/google/flax/issues/2263#issuecomment-1173424293\n",
        "import sys\n",
        "if 'google.colab' in sys.modules:\n",
        "  import jax.tools.colab_tpu\n",
        "  jax.tools.colab_tpu.setup_tpu()"
      ],
      "metadata": {
        "id": "v6w1d-63ThC0"
      },
      "execution_count": null,
      "outputs": []
    },
    {
      "cell_type": "markdown",
      "source": [
        "## Dataset download\n",
        "https://machinelearningmastery.com/develop-a-deep-learning-caption-generation-model-in-python/"
      ],
      "metadata": {
        "id": "W7a-hZSKcrJp"
      }
    },
    {
      "cell_type": "code",
      "source": [
        "!wget https://github.com/jbrownlee/Datasets/releases/download/Flickr8k/Flickr8k_Dataset.zip"
      ],
      "metadata": {
        "id": "XU6GsgFpCyUG"
      },
      "execution_count": null,
      "outputs": []
    },
    {
      "cell_type": "code",
      "source": [
        "!wget https://github.com/jbrownlee/Datasets/releases/download/Flickr8k/Flickr8k_text.zip"
      ],
      "metadata": {
        "id": "sAf8igWsch9J"
      },
      "execution_count": null,
      "outputs": []
    },
    {
      "cell_type": "code",
      "source": [
        "!unzip Flickr8k_Dataset.zip"
      ],
      "metadata": {
        "id": "tmC91GQMcv5y"
      },
      "execution_count": null,
      "outputs": []
    },
    {
      "cell_type": "code",
      "source": [
        "!unzip Flickr8k_text.zip"
      ],
      "metadata": {
        "id": "tvOmtmAVcz6X"
      },
      "execution_count": null,
      "outputs": []
    },
    {
      "cell_type": "markdown",
      "source": [
        "## Setup"
      ],
      "metadata": {
        "id": "9MD4drVHWRIe"
      }
    },
    {
      "cell_type": "code",
      "source": [
        "import torch\n",
        "import numpy as np"
      ],
      "metadata": {
        "id": "0yEhegGTWSKG"
      },
      "execution_count": null,
      "outputs": []
    },
    {
      "cell_type": "code",
      "source": [
        "import tensorflow_hub as hub"
      ],
      "metadata": {
        "id": "Fw-hNn-JXyFH"
      },
      "execution_count": null,
      "outputs": []
    },
    {
      "cell_type": "code",
      "source": [
        "sentence_encoder = hub.load(\"https://tfhub.dev/google/universal-sentence-encoder/4\")"
      ],
      "metadata": {
        "id": "Esyn8QX6YEnT"
      },
      "execution_count": null,
      "outputs": []
    },
    {
      "cell_type": "code",
      "source": [
        "message = [\"I am a sentence for which I would like to get its embedding.\"]"
      ],
      "metadata": {
        "id": "89ueqH1aZIm-"
      },
      "execution_count": null,
      "outputs": []
    },
    {
      "cell_type": "code",
      "source": [
        "embed = sentence_encoder(message)"
      ],
      "metadata": {
        "id": "pb6awyhJZM-F"
      },
      "execution_count": null,
      "outputs": []
    },
    {
      "cell_type": "code",
      "source": [
        "embed_np = np.array(embed)"
      ],
      "metadata": {
        "id": "KcjeI5hIZV9z"
      },
      "execution_count": null,
      "outputs": []
    },
    {
      "cell_type": "code",
      "source": [
        "print(f'embed: {\", \".join(map(str, list(np.squeeze(embed_np)[:3])))}, ...')"
      ],
      "metadata": {
        "id": "tKA0ZQpraGTw"
      },
      "execution_count": null,
      "outputs": []
    },
    {
      "cell_type": "markdown",
      "source": [
        "## DataLoader"
      ],
      "metadata": {
        "id": "ESH67VNZUBB5"
      }
    },
    {
      "cell_type": "code",
      "source": [
        "class CLIPDataset(torch.data.utils.Datasets):\n",
        "  def __init__(self, image_files, captions):\n",
        "    self.image_files = image_files\n",
        "    self.captions = captions\n",
        "\n",
        "  def __getitem__(self, index):\n",
        "    pass\n",
        "\n",
        "  def __len__(self):\n",
        "    return len(self.image_files)"
      ],
      "metadata": {
        "id": "SyTE_t91c7QH"
      },
      "execution_count": null,
      "outputs": []
    }
  ]
}